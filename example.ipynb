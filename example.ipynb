{
 "cells": [
  {
   "cell_type": "markdown",
   "id": "390c209e",
   "metadata": {},
   "source": [
    "### Barnacle Detection Example Notebook "
   ]
  },
  {
   "cell_type": "code",
   "execution_count": null,
   "id": "0033c8a6",
   "metadata": {},
   "outputs": [],
   "source": [
    "from src.barnacle_pipeline import BarnaclePipeline"
   ]
  },
  {
   "cell_type": "markdown",
   "id": "c3a9bb10",
   "metadata": {},
   "source": [
    "Here is an example setup of the BarnaclePipeline class. It takes four arguments:\n",
    "\n",
    "- `input_image_directory` with images of barnacles to be classified\n",
    "- `output_image_directory` where the classified images will be written \n",
    "- `frame_image_directory`, where the extracted images with the wireframe removed will be saved\n",
    "- `log` a boolean dictating process logging. "
   ]
  },
  {
   "cell_type": "code",
   "execution_count": null,
   "id": "1ea221a9",
   "metadata": {},
   "outputs": [],
   "source": [
    "\n",
    "pipeline = BarnaclePipeline(\n",
    "    input_image_directory=\"data\",       # directory with images of barnacles to be detected\n",
    "    output_image_directory=\"outputs\",   # directory where the classified images will be written\n",
    "    frame_image_directory='frames',     # directory where the interior of the wireframes will be saved\n",
    "    log=True                            # toggle process logging to stdout\n",
    "    )\n",
    "\n",
    "pipeline.run()                          # run the pipeline"
   ]
  },
  {
   "cell_type": "markdown",
   "id": "d0ae5d53",
   "metadata": {},
   "source": [
    "Here are the results from the *BarnaclePipeline* class, formatted into charts. The chart logic is defined in the helper module *generate_plots.py*"
   ]
  },
  {
   "cell_type": "code",
   "execution_count": null,
   "id": "1a655ed8",
   "metadata": {},
   "outputs": [],
   "source": [
    "# %config InlineBackend.figure_format = 'retina'\n",
    "from src.generate_plots import generate_plots  # import the generate_plots function\n",
    "\n",
    "generate_plots()                      # generate the plots\n"
   ]
  }
 ],
 "metadata": {
  "kernelspec": {
   "display_name": ".venv",
   "language": "python",
   "name": "python3"
  },
  "language_info": {
   "codemirror_mode": {
    "name": "ipython",
    "version": 3
   },
   "file_extension": ".py",
   "mimetype": "text/x-python",
   "name": "python",
   "nbconvert_exporter": "python",
   "pygments_lexer": "ipython3",
   "version": "3.13.1"
  }
 },
 "nbformat": 4,
 "nbformat_minor": 5
}
